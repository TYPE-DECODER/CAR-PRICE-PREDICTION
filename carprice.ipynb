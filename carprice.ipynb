{
 "cells": [
  {
   "cell_type": "code",
   "execution_count": 2,
   "id": "8b5e451f",
   "metadata": {},
   "outputs": [
    {
     "ename": "EOFError",
     "evalue": "Ran out of input",
     "output_type": "error",
     "traceback": [
      "\u001b[1;31m---------------------------------------------------------------------------\u001b[0m",
      "\u001b[1;31mEOFError\u001b[0m                                  Traceback (most recent call last)",
      "Cell \u001b[1;32mIn[2], line 7\u001b[0m\n\u001b[0;32m      5\u001b[0m \u001b[38;5;66;03m# Load the model\u001b[39;00m\n\u001b[0;32m      6\u001b[0m file \u001b[38;5;241m=\u001b[39m \u001b[38;5;28mopen\u001b[39m(\u001b[38;5;124m'\u001b[39m\u001b[38;5;124mmodel.pkl\u001b[39m\u001b[38;5;124m'\u001b[39m, \u001b[38;5;124m'\u001b[39m\u001b[38;5;124mrb\u001b[39m\u001b[38;5;124m'\u001b[39m)\n\u001b[1;32m----> 7\u001b[0m model \u001b[38;5;241m=\u001b[39m pickle\u001b[38;5;241m.\u001b[39mload(file)\n\u001b[0;32m      9\u001b[0m \u001b[38;5;28;01mdef\u001b[39;00m \u001b[38;5;21mmain\u001b[39m():\n\u001b[0;32m     10\u001b[0m     st\u001b[38;5;241m.\u001b[39mtitle(\u001b[38;5;124m'\u001b[39m\u001b[38;5;124mCar Price Prediction\u001b[39m\u001b[38;5;124m'\u001b[39m)\n",
      "\u001b[1;31mEOFError\u001b[0m: Ran out of input"
     ]
    }
   ],
   "source": [
    "import streamlit as st\n",
    "import pickle\n",
    "import numpy as np\n",
    "\n",
    "# Load the model\n",
    "file='model.pkl'\n",
    "model = pickle.load(open(file,'rb'))\n",
    "def main():\n",
    "    st.title('Car Price Prediction')\n",
    "    # Create input fields for the features\n",
    "    car_name = st.text_input('Car Name')\n",
    "    year = st.number_input('Year', min_value=1900, max_value=2023, value=2015)\n",
    "    selling_price = st.number_input('Selling Price (in lakhs)', min_value=0.0, max_value=100.0, value=0.0)\n",
    "    present_price = st.number_input('Present Price (in lakhs)', min_value=0.0, max_value=100.0, value=0.0)\n",
    "    kms_driven = st.number_input('Kilometers Driven', min_value=0, max_value=1000000, value=50000)\n",
    "    fuel_type = st.selectbox('Fuel Type', ['Petrol', 'Diesel', 'CNG'])\n",
    "    seller_type = st.selectbox('Seller Type', ['Dealer', 'Individual'])\n",
    "    transmission = st.selectbox('Transmission', ['Manual', 'Automatic'])\n",
    "    owner = st.selectbox('Owner', [0, 1, 2, 3])\n",
    "\n",
    "    # Preprocess the input features\n",
    "    fuel_type_dict = {'Petrol': 0, 'Diesel': 1, 'CNG': 2}\n",
    "    seller_type_dict = {'Dealer': 0, 'Individual': 1}\n",
    "    transmission_dict = {'Manual': 0, 'Automatic': 1}\n",
    "\n",
    "    fuel_type = fuel_type_dict[fuel_type]\n",
    "    seller_type = seller_type_dict[seller_type]\n",
    "    transmission = transmission_dict[transmission]\n",
    "\n",
    "    # Prepare the feature array for prediction\n",
    "    features = np.array([[year, present_price, kms_driven, fuel_type, seller_type, transmission, owner]])\n",
    "    \n",
    "    # Predict the car price\n",
    "    if st.button('Predict Price'):\n",
    "        predicted_price = model.predict(features)\n",
    "        st.success(f'The predicted selling price of the car is {predicted_price[0]:.2f} lakhs')\n",
    "if __name__ =='__main__':\n",
    "    main()\n"
   ]
  },
  {
   "cell_type": "code",
   "execution_count": null,
   "id": "b2188cf1",
   "metadata": {},
   "outputs": [],
   "source": []
  }
 ],
 "metadata": {
  "kernelspec": {
   "display_name": "Python 3 (ipykernel)",
   "language": "python",
   "name": "python3"
  },
  "language_info": {
   "codemirror_mode": {
    "name": "ipython",
    "version": 3
   },
   "file_extension": ".py",
   "mimetype": "text/x-python",
   "name": "python",
   "nbconvert_exporter": "python",
   "pygments_lexer": "ipython3",
   "version": "3.11.5"
  }
 },
 "nbformat": 4,
 "nbformat_minor": 5
}
